{
 "cells": [
  {
   "cell_type": "code",
   "execution_count": 1,
   "id": "eeb876fc",
   "metadata": {},
   "outputs": [],
   "source": [
    "from bs4 import BeautifulSoup\n",
    "import requests"
   ]
  },
  {
   "cell_type": "code",
   "execution_count": 2,
   "id": "d0c6be95",
   "metadata": {},
   "outputs": [],
   "source": [
    "url = \"https://www.devicespecifications.com/en/model/b1b25cf7\"\n",
    "response = requests.get(url)\n",
    "html_content = response.content\n"
   ]
  },
  {
   "cell_type": "code",
   "execution_count": 3,
   "id": "535757a9",
   "metadata": {},
   "outputs": [],
   "source": [
    "soup = BeautifulSoup(html_content, \"html.parser\")\n"
   ]
  },
  {
   "cell_type": "code",
   "execution_count": 4,
   "id": "19a05dde",
   "metadata": {},
   "outputs": [],
   "source": [
    "specs = soup.find(id=\"model-brief-specifications\")\n"
   ]
  },
  {
   "cell_type": "code",
   "execution_count": 5,
   "id": "e57066a1",
   "metadata": {},
   "outputs": [
    {
     "data": {
      "text/plain": [
       "<div id=\"model-brief-specifications\">\n",
       "<b>Dimensions</b>: 76 x 165.5 x 22 mm<br/><b>Weight</b>: 195 g<br/><b>SoC</b>: Quаlсоmm Snарdrаgоn 695 (SМ6375)<br/><b>CPU</b>: АRМ Соrtех-А7, 1300 MHz, <b>Cores</b>: 4<br/><b>GPU</b>: Qualcomm Adreno 619, 840 MHz, <b>Cores</b>: 1<br/><b>RAM</b>: 8 GB, 540 MHz<br/><b>Storage</b>: 16 GB<br/><b>Memory cards</b>: microSD, microSDHC, microSDXC<br/><b>Display</b>: 4.5 in, IPS, 720 x 1440 pixels, 24 bit<br/><b>Battery</b>: 3000 mAh, Li-Polymer<br/><b>OS</b>: ОхygеnОS 13 (Аndrоid 13)<br/><b>Camera</b>: 4128 x 3096 pixels, 1920 x 1080 pixels, 30 fps<br/><b>SIM card</b>: Nano-SIM, Nano-SIM / microSD<br/><b>Wi-Fi</b>: b, g, а, аd<br/><b>USB</b>: 2.0, Micro USB<br/><b>Bluetooth</b>: 4.1<br/><b>Positioning</b>: GРS, А-GРS    <br/>\n",
       "<br/>\n",
       "<a class=\"button\" href=\"#\" onclick=\"App.comparison.add('b1b25cf7'); return false;\">\n",
       "<span>\n",
       "<span class=\"image-arrows\"></span>\n",
       "        Add for comparison      </span>\n",
       "</a>\n",
       "<a class=\"button\" href=\"#\" id=\"suggest-an-edit-button\" onclick=\"win.show(); return false;\">\n",
       "<span>\n",
       "<span class=\"image-pencil\"></span>\n",
       "        Suggest an edit      </span>\n",
       "</a>\n",
       "</div>"
      ]
     },
     "execution_count": 5,
     "metadata": {},
     "output_type": "execute_result"
    }
   ],
   "source": [
    "specs"
   ]
  },
  {
   "cell_type": "code",
   "execution_count": null,
   "id": "51456833",
   "metadata": {},
   "outputs": [],
   "source": []
  }
 ],
 "metadata": {
  "kernelspec": {
   "display_name": "Python 3 (ipykernel)",
   "language": "python",
   "name": "python3"
  },
  "language_info": {
   "codemirror_mode": {
    "name": "ipython",
    "version": 3
   },
   "file_extension": ".py",
   "mimetype": "text/x-python",
   "name": "python",
   "nbconvert_exporter": "python",
   "pygments_lexer": "ipython3",
   "version": "3.11.3"
  }
 },
 "nbformat": 4,
 "nbformat_minor": 5
}
